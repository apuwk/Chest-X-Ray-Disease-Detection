{
 "cells": [
  {
   "cell_type": "code",
   "execution_count": 2,
   "metadata": {},
   "outputs": [
    {
     "ename": "ModuleNotFoundError",
     "evalue": "No module named 'tqdm'",
     "output_type": "error",
     "traceback": [
      "\u001b[0;31m---------------------------------------------------------------------------\u001b[0m",
      "\u001b[0;31mModuleNotFoundError\u001b[0m                       Traceback (most recent call last)",
      "Cell \u001b[0;32mIn[2], line 20\u001b[0m\n\u001b[1;32m     18\u001b[0m \u001b[39mfrom\u001b[39;00m \u001b[39msrc\u001b[39;00m\u001b[39m.\u001b[39;00m\u001b[39mdata\u001b[39;00m\u001b[39m.\u001b[39;00m\u001b[39mdataset\u001b[39;00m \u001b[39mimport\u001b[39;00m ChestXrayDataset\n\u001b[1;32m     19\u001b[0m \u001b[39mfrom\u001b[39;00m \u001b[39msrc\u001b[39;00m\u001b[39m.\u001b[39;00m\u001b[39mmodels\u001b[39;00m\u001b[39m.\u001b[39;00m\u001b[39mcnn\u001b[39;00m \u001b[39mimport\u001b[39;00m ChestXrayModel\n\u001b[0;32m---> 20\u001b[0m \u001b[39mfrom\u001b[39;00m \u001b[39msrc\u001b[39;00m\u001b[39m.\u001b[39;00m\u001b[39mtraining\u001b[39;00m\u001b[39m.\u001b[39;00m\u001b[39mtrainer\u001b[39;00m \u001b[39mimport\u001b[39;00m XRayTrainer\n",
      "File \u001b[0;32m~/Desktop/chest-xray-ML-model/src/training/trainer.py:7\u001b[0m\n\u001b[1;32m      5\u001b[0m \u001b[39mfrom\u001b[39;00m \u001b[39mpathlib\u001b[39;00m \u001b[39mimport\u001b[39;00m Path\n\u001b[1;32m      6\u001b[0m \u001b[39mimport\u001b[39;00m \u001b[39mlogging\u001b[39;00m\n\u001b[0;32m----> 7\u001b[0m \u001b[39mfrom\u001b[39;00m \u001b[39mtqdm\u001b[39;00m \u001b[39mimport\u001b[39;00m tqdm\n\u001b[1;32m      8\u001b[0m \u001b[39mimport\u001b[39;00m \u001b[39mnumpy\u001b[39;00m \u001b[39mas\u001b[39;00m \u001b[39mnp\u001b[39;00m\n\u001b[1;32m      9\u001b[0m \u001b[39mfrom\u001b[39;00m \u001b[39msklearn\u001b[39;00m\u001b[39m.\u001b[39;00m\u001b[39mmetrics\u001b[39;00m \u001b[39mimport\u001b[39;00m roc_auc_score, precision_recall_fscore_support\n",
      "\u001b[0;31mModuleNotFoundError\u001b[0m: No module named 'tqdm'"
     ]
    }
   ],
   "source": [
    "import pandas as pd\n",
    "import numpy as np\n",
    "import torch\n",
    "from torch.utils.data import DataLoader\n",
    "import matplotlib.pyplot as plt\n",
    "from pathlib import Path\n",
    "import sys\n",
    "import os\n",
    "from dotenv import load_dotenv\n",
    "import torch.optim as optim\n",
    "\n",
    "load_dotenv()\n",
    "src_path = Path(os.getenv(\"SRC_PATH\"))\n",
    "\n",
    "sys.path.append(str(Path(src_path).resolve().parent))\n",
    "\n",
    "from src.data.preprocessing import XRayPreprocessor\n",
    "from src.data.dataset import ChestXrayDataset\n",
    "from src.models.cnn import ChestXrayModel\n",
    "from src.training.trainer import XRayTrainer\n"
   ]
  },
  {
   "cell_type": "code",
   "execution_count": 3,
   "metadata": {},
   "outputs": [
    {
     "name": "stdout",
     "output_type": "stream",
     "text": [
      "\n",
      "Class Distribution:\n",
      "pneumonia\n",
      "0    4933\n",
      "1      65\n",
      "Name: count, dtype: int64\n",
      "\n",
      "Percentage distribution:\n",
      "pneumonia\n",
      "0    98.69948\n",
      "1     1.30052\n",
      "Name: proportion, dtype: float64\n"
     ]
    }
   ],
   "source": [
    "# Load metadata\n",
    "load_dotenv()\n",
    "data_path = Path(os.getenv(\"DATA_PATH\"))\n",
    "metadata_data_path = data_path / 'metadata' / 'Data_Entry_2017_v2020.csv'\n",
    "metadata_df = pd.read_csv(metadata_data_path)\n",
    "raw_data_path = data_path / 'raw'\n",
    "images_001_data_path = raw_data_path / 'images_001'\n",
    "last_file = sorted(list(images_001_data_path.iterdir()))[-1]\n",
    "last_file_name = last_file.stem\n",
    "\n",
    "# Create a copy of the filtered DataFrame\n",
    "metadata_df_001 = metadata_df[metadata_df['Image Index'] <= last_file_name].copy()\n",
    "\n",
    "# Create binary labels for pneumonia\n",
    "metadata_df_001['pneumonia'] = metadata_df_001['Finding Labels'].str.contains('Pneumonia', case=False).astype(int)\n",
    "\n",
    "# Display class distribution\n",
    "print(\"\\nClass Distribution:\")\n",
    "print(metadata_df_001['pneumonia'].value_counts())\n",
    "\n",
    "# Display sample of the data\n",
    "print(\"\\nPercentage distribution:\")\n",
    "print(metadata_df_001['pneumonia'].value_counts(normalize=True) * 100)"
   ]
  },
  {
   "cell_type": "code",
   "execution_count": 4,
   "metadata": {},
   "outputs": [
    {
     "name": "stderr",
     "output_type": "stream",
     "text": [
      "INFO:src.data.preprocessing:Train set size: 3498\n",
      "INFO:src.data.preprocessing:Validation set size: 750\n",
      "INFO:src.data.preprocessing:Test set size: 750\n"
     ]
    }
   ],
   "source": [
    "preprocessor = XRayPreprocessor(\n",
    "    target_size=(224, 224),\n",
    "    normalize_method='standard',\n",
    "    train_split=0.70,\n",
    "    val_split=0.15,\n",
    "    test_split=0.15,\n",
    "    random_seed=42\n",
    ")\n",
    "\n",
    "image_splits, label_splits = preprocessor.create_splits(\n",
    "    metadata_df = metadata_df_001\n",
    ")\n",
    "\n"
   ]
  },
  {
   "cell_type": "code",
   "execution_count": 5,
   "metadata": {},
   "outputs": [
    {
     "name": "stdout",
     "output_type": "stream",
     "text": [
      "First image of batch: torch.Size([3, 224, 224])\n",
      "Labels shape: 0\n"
     ]
    }
   ],
   "source": [
    "# Create datasets\n",
    "train_dataset = ChestXrayDataset(\n",
    "    folder_path=images_001_data_path,\n",
    "    image_paths=image_splits['train'],\n",
    "    labels=label_splits['train'],\n",
    "    preprocessor=preprocessor\n",
    ")\n",
    "\n",
    "val_dataset = ChestXrayDataset(\n",
    "    folder_path=images_001_data_path,\n",
    "    image_paths=image_splits['val'],\n",
    "    labels=label_splits['val'],\n",
    "    preprocessor=preprocessor\n",
    ")\n",
    "\n",
    "# Create data loaders\n",
    "train_loader = DataLoader(train_dataset, batch_size=32, shuffle=True)\n",
    "val_loader = DataLoader(val_dataset, batch_size=32, shuffle=False)\n",
    "\n",
    "# Verify data loading\n",
    "for images, labels in train_loader:\n",
    "    print(f\"First image of batch: {images[0].shape}\")\n",
    "    print(f\"Labels shape: {labels[0]}\")\n",
    "    break"
   ]
  },
  {
   "cell_type": "code",
   "execution_count": 6,
   "metadata": {},
   "outputs": [],
   "source": [
    "# After your data loading and before model initialization\n",
    "total_samples = len(metadata_df_001)\n",
    "n_pneumonia = metadata_df_001['pneumonia'].sum()\n",
    "n_normal = total_samples - n_pneumonia\n",
    "\n",
    "weight_for_1 = total_samples / (2 * n_pneumonia)  # pneumonia class\n",
    "weight_for_0 = total_samples / (2 * n_normal)     # normal class\n",
    "\n",
    "class_weights = torch.FloatTensor([weight_for_0, weight_for_1]).to('cuda' if torch.cuda.is_available() else 'cpu')"
   ]
  },
  {
   "cell_type": "code",
   "execution_count": 7,
   "metadata": {},
   "outputs": [
    {
     "name": "stderr",
     "output_type": "stream",
     "text": [
      "2024-12-03 00:13:01,270 - INFO - Trainer initialized with ChestXrayModel\n",
      "INFO:src.training.trainer:Trainer initialized with ChestXrayModel\n",
      "2024-12-03 00:13:01,270 - INFO - Training on device: cpu\n",
      "INFO:src.training.trainer:Training on device: cpu\n",
      "2024-12-03 00:13:01,271 - INFO - Number of classes: 1\n",
      "INFO:src.training.trainer:Number of classes: 1\n",
      "2024-12-03 00:13:01,271 - INFO - Starting training for 10 epochs...\n",
      "INFO:src.training.trainer:Starting training for 10 epochs...\n",
      "Training: 100%|██████████| 110/110 [11:43<00:00,  6.40s/it, loss=0.0164, avg_loss=0.0991]\n",
      "Validation: 100%|██████████| 24/24 [01:34<00:00,  3.95s/it, loss=0.0123, avg_loss=0.0694]\n",
      "2024-12-03 00:26:20,072 - INFO - Epoch 1/10 - Train Loss: 0.0991 - Val Loss: 0.0694 - Val AUC-ROC: 0.5938\n",
      "INFO:src.training.trainer:Epoch 1/10 - Train Loss: 0.0991 - Val Loss: 0.0694 - Val AUC-ROC: 0.5938\n",
      "2024-12-03 00:26:20,073 - INFO - Validation loss improved from inf to 0.0694\n",
      "INFO:src.training.trainer:Validation loss improved from inf to 0.0694\n",
      "2024-12-03 00:26:20,524 - INFO - Checkpoint saved: checkpoint_epoch0_f1_0.000_auc_0.594.pt\n",
      "INFO:src.training.trainer:Checkpoint saved: checkpoint_epoch0_f1_0.000_auc_0.594.pt\n",
      "Training:   8%|▊         | 9/110 [01:05<12:16,  7.29s/it, loss=0.0144, avg_loss=0.0379]\n"
     ]
    },
    {
     "ename": "KeyboardInterrupt",
     "evalue": "",
     "output_type": "error",
     "traceback": [
      "\u001b[0;31m---------------------------------------------------------------------------\u001b[0m",
      "\u001b[0;31mKeyboardInterrupt\u001b[0m                         Traceback (most recent call last)",
      "Cell \u001b[0;32mIn[7], line 15\u001b[0m\n\u001b[1;32m      5\u001b[0m trainer \u001b[39m=\u001b[39m XRayTrainer(\n\u001b[1;32m      6\u001b[0m     model\u001b[39m=\u001b[39mmodel,\n\u001b[1;32m      7\u001b[0m     train_loader\u001b[39m=\u001b[39mtrain_loader,\n\u001b[0;32m   (...)\u001b[0m\n\u001b[1;32m     11\u001b[0m     checkpoint_dir\u001b[39m=\u001b[39m (os\u001b[39m.\u001b[39mgetenv(\u001b[39m\"\u001b[39m\u001b[39mSRC_PATH\u001b[39m\u001b[39m\"\u001b[39m) \u001b[39m+\u001b[39m \u001b[39m'\u001b[39m\u001b[39m/checkpoints\u001b[39m\u001b[39m'\u001b[39m)\n\u001b[1;32m     12\u001b[0m )\n\u001b[1;32m     14\u001b[0m \u001b[39m# Train the model\u001b[39;00m\n\u001b[0;32m---> 15\u001b[0m best_metrics \u001b[39m=\u001b[39m trainer\u001b[39m.\u001b[39;49mtrain(\n\u001b[1;32m     16\u001b[0m     num_epochs\u001b[39m=\u001b[39;49m\u001b[39m10\u001b[39;49m,  \u001b[39m# Start with a small number for testing\u001b[39;49;00m\n\u001b[1;32m     17\u001b[0m     early_stopping_patience\u001b[39m=\u001b[39;49m\u001b[39m3\u001b[39;49m\n\u001b[1;32m     18\u001b[0m )\n\u001b[1;32m     20\u001b[0m \u001b[39m# Display final metrics\u001b[39;00m\n\u001b[1;32m     21\u001b[0m \u001b[39mprint\u001b[39m(\u001b[39m\"\u001b[39m\u001b[39m\\n\u001b[39;00m\u001b[39mBest Validation Metrics:\u001b[39m\u001b[39m\"\u001b[39m)\n",
      "File \u001b[0;32m~/Desktop/medical imagine classifier/Medical-Imaging-Classifier/src/training/trainer.py:97\u001b[0m, in \u001b[0;36mXRayTrainer.train\u001b[0;34m(self, num_epochs, early_stopping_patience)\u001b[0m\n\u001b[1;32m     93\u001b[0m \u001b[39mself\u001b[39m\u001b[39m.\u001b[39mlogger\u001b[39m.\u001b[39minfo(\u001b[39mf\u001b[39m\u001b[39m\"\u001b[39m\u001b[39mStarting training for \u001b[39m\u001b[39m{\u001b[39;00mnum_epochs\u001b[39m}\u001b[39;00m\u001b[39m epochs...\u001b[39m\u001b[39m\"\u001b[39m)\n\u001b[1;32m     95\u001b[0m \u001b[39mfor\u001b[39;00m epoch \u001b[39min\u001b[39;00m \u001b[39mrange\u001b[39m(num_epochs):\n\u001b[1;32m     96\u001b[0m     \u001b[39m# Training phase\u001b[39;00m\n\u001b[0;32m---> 97\u001b[0m     train_metrics \u001b[39m=\u001b[39m \u001b[39mself\u001b[39;49m\u001b[39m.\u001b[39;49m_train_epoch()\n\u001b[1;32m     99\u001b[0m     \u001b[39m# Validation phase\u001b[39;00m\n\u001b[1;32m    100\u001b[0m     val_metrics \u001b[39m=\u001b[39m \u001b[39mself\u001b[39m\u001b[39m.\u001b[39m_validate_epoch()\n",
      "File \u001b[0;32m~/Desktop/medical imagine classifier/Medical-Imaging-Classifier/src/training/trainer.py:156\u001b[0m, in \u001b[0;36mXRayTrainer._train_epoch\u001b[0;34m(self)\u001b[0m\n\u001b[1;32m    152\u001b[0m outputs \u001b[39m=\u001b[39m \u001b[39mself\u001b[39m\u001b[39m.\u001b[39mmodel(images)\n\u001b[1;32m    154\u001b[0m loss \u001b[39m=\u001b[39m \u001b[39mself\u001b[39m\u001b[39m.\u001b[39mcriterion(outputs, targets)\n\u001b[0;32m--> 156\u001b[0m loss\u001b[39m.\u001b[39;49mbackward()\n\u001b[1;32m    158\u001b[0m \u001b[39mself\u001b[39m\u001b[39m.\u001b[39moptimizer\u001b[39m.\u001b[39mstep()\n\u001b[1;32m    160\u001b[0m running_loss \u001b[39m+\u001b[39m\u001b[39m=\u001b[39m loss\u001b[39m.\u001b[39mitem()\n",
      "File \u001b[0;32m/Library/Frameworks/Python.framework/Versions/3.12/lib/python3.12/site-packages/torch/_tensor.py:581\u001b[0m, in \u001b[0;36mTensor.backward\u001b[0;34m(self, gradient, retain_graph, create_graph, inputs)\u001b[0m\n\u001b[1;32m    571\u001b[0m \u001b[39mif\u001b[39;00m has_torch_function_unary(\u001b[39mself\u001b[39m):\n\u001b[1;32m    572\u001b[0m     \u001b[39mreturn\u001b[39;00m handle_torch_function(\n\u001b[1;32m    573\u001b[0m         Tensor\u001b[39m.\u001b[39mbackward,\n\u001b[1;32m    574\u001b[0m         (\u001b[39mself\u001b[39m,),\n\u001b[0;32m   (...)\u001b[0m\n\u001b[1;32m    579\u001b[0m         inputs\u001b[39m=\u001b[39minputs,\n\u001b[1;32m    580\u001b[0m     )\n\u001b[0;32m--> 581\u001b[0m torch\u001b[39m.\u001b[39;49mautograd\u001b[39m.\u001b[39;49mbackward(\n\u001b[1;32m    582\u001b[0m     \u001b[39mself\u001b[39;49m, gradient, retain_graph, create_graph, inputs\u001b[39m=\u001b[39;49minputs\n\u001b[1;32m    583\u001b[0m )\n",
      "File \u001b[0;32m/Library/Frameworks/Python.framework/Versions/3.12/lib/python3.12/site-packages/torch/autograd/__init__.py:347\u001b[0m, in \u001b[0;36mbackward\u001b[0;34m(tensors, grad_tensors, retain_graph, create_graph, grad_variables, inputs)\u001b[0m\n\u001b[1;32m    342\u001b[0m     retain_graph \u001b[39m=\u001b[39m create_graph\n\u001b[1;32m    344\u001b[0m \u001b[39m# The reason we repeat the same comment below is that\u001b[39;00m\n\u001b[1;32m    345\u001b[0m \u001b[39m# some Python versions print out the first line of a multi-line function\u001b[39;00m\n\u001b[1;32m    346\u001b[0m \u001b[39m# calls in the traceback and some print out the last line\u001b[39;00m\n\u001b[0;32m--> 347\u001b[0m _engine_run_backward(\n\u001b[1;32m    348\u001b[0m     tensors,\n\u001b[1;32m    349\u001b[0m     grad_tensors_,\n\u001b[1;32m    350\u001b[0m     retain_graph,\n\u001b[1;32m    351\u001b[0m     create_graph,\n\u001b[1;32m    352\u001b[0m     inputs,\n\u001b[1;32m    353\u001b[0m     allow_unreachable\u001b[39m=\u001b[39;49m\u001b[39mTrue\u001b[39;49;00m,\n\u001b[1;32m    354\u001b[0m     accumulate_grad\u001b[39m=\u001b[39;49m\u001b[39mTrue\u001b[39;49;00m,\n\u001b[1;32m    355\u001b[0m )\n",
      "File \u001b[0;32m/Library/Frameworks/Python.framework/Versions/3.12/lib/python3.12/site-packages/torch/autograd/graph.py:825\u001b[0m, in \u001b[0;36m_engine_run_backward\u001b[0;34m(t_outputs, *args, **kwargs)\u001b[0m\n\u001b[1;32m    823\u001b[0m     unregister_hooks \u001b[39m=\u001b[39m _register_logging_hooks_on_whole_graph(t_outputs)\n\u001b[1;32m    824\u001b[0m \u001b[39mtry\u001b[39;00m:\n\u001b[0;32m--> 825\u001b[0m     \u001b[39mreturn\u001b[39;00m Variable\u001b[39m.\u001b[39;49m_execution_engine\u001b[39m.\u001b[39;49mrun_backward(  \u001b[39m# Calls into the C++ engine to run the backward pass\u001b[39;49;00m\n\u001b[1;32m    826\u001b[0m         t_outputs, \u001b[39m*\u001b[39;49margs, \u001b[39m*\u001b[39;49m\u001b[39m*\u001b[39;49mkwargs\n\u001b[1;32m    827\u001b[0m     )  \u001b[39m# Calls into the C++ engine to run the backward pass\u001b[39;00m\n\u001b[1;32m    828\u001b[0m \u001b[39mfinally\u001b[39;00m:\n\u001b[1;32m    829\u001b[0m     \u001b[39mif\u001b[39;00m attach_logging_hooks:\n",
      "\u001b[0;31mKeyboardInterrupt\u001b[0m: "
     ]
    }
   ],
   "source": [
    "# TRAIN SCRATCH\n",
    "\n",
    "# Initialize model\n",
    "model = ChestXrayModel(num_classes=1, pretrained=True)\n",
    "\n",
    "# Initialize trainer\n",
    "trainer = XRayTrainer(\n",
    "    model=model,\n",
    "    train_loader=train_loader,\n",
    "    val_loader=val_loader,\n",
    "    num_classes=1,\n",
    "    lr=1e-4,\n",
    "    checkpoint_dir= (os.getenv(\"SRC_PATH\") + '/checkpoints')\n",
    ")\n",
    "\n",
    "# Train the model\n",
    "best_metrics = trainer.train(\n",
    "    num_epochs=10,  # Start with a small number for testing\n",
    "    early_stopping_patience=3\n",
    ")\n",
    "\n",
    "# Display final metrics\n",
    "print(\"\\nBest Validation Metrics:\")\n",
    "for metric, value in best_metrics.items():\n",
    "    print(f\"{metric}: {value:.4f}\")"
   ]
  },
  {
   "cell_type": "code",
   "execution_count": 8,
   "metadata": {},
   "outputs": [],
   "source": [
    "# LOAD MODEL\n",
    "model = ChestXrayModel()\n",
    "optimizer = optim.Adam(model.parameters())\n",
    "\n",
    "checkpoint = torch.load(src_path / 'checkpoints' / 'checkpoint_epoch0_f1_0.000_auc_0.594.pt')\n",
    "model.load_state_dict(checkpoint['model_state_dict'])\n",
    "optimizer.load_state_dict(checkpoint['optimizer_state_dict'])\n"
   ]
  }
 ],
 "metadata": {
  "kernelspec": {
   "display_name": "Python 3",
   "language": "python",
   "name": "python3"
  },
  "language_info": {
   "codemirror_mode": {
    "name": "ipython",
    "version": 3
   },
   "file_extension": ".py",
   "mimetype": "text/x-python",
   "name": "python",
   "nbconvert_exporter": "python",
   "pygments_lexer": "ipython3",
   "version": "3.12.3"
  },
  "orig_nbformat": 4
 },
 "nbformat": 4,
 "nbformat_minor": 2
}
